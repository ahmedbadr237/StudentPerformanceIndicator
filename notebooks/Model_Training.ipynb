{
 "cells": [
  {
   "cell_type": "markdown",
   "metadata": {},
   "source": [
    "## Importing necessary libraries"
   ]
  },
  {
   "cell_type": "code",
   "execution_count": null,
   "metadata": {},
   "outputs": [],
   "source": [
    "import pandas as pd\n",
    "import numpy as np\n",
    "import matplotlib.pyplot as plt\n",
    "import seaborn as sns\n",
    "from sklearn.preprocessing import OneHotEncoder\n",
    "from sklearn.model_selection import train_test_split\n",
    "from sklearn.linear_model import LinearRegression , Ridge , Lasso\n",
    "from xgboost import XGBRegressor\n",
    "from sklearn.ensemble import RandomForestRegressor,GradientBoostingRegressor\n",
    "from sklearn.tree import DecisionTreeRegressor\n",
    "from sklearn.metrics import mean_absolute_error,r2_score\n",
    "from sklearn.preprocessing import OrdinalEncoder\n",
    "from sklearn.compose import ColumnTransformer\n",
    "from sklearn.model_selection import RandomizedSearchCV\n",
    "from statsmodels.stats.outliers_influence import variance_inflation_factor\n",
    "from statsmodels.api import qqplot\n",
    "from sklearn.preprocessing import StandardScaler\n",
    "import warnings \n",
    "warnings.filterwarnings('ignore')"
   ]
  },
  {
   "cell_type": "markdown",
   "metadata": {},
   "source": [
    "## Imoprt the data set."
   ]
  },
  {
   "cell_type": "code",
   "execution_count": 57,
   "metadata": {},
   "outputs": [
    {
     "data": {
      "text/html": [
       "<div>\n",
       "<style scoped>\n",
       "    .dataframe tbody tr th:only-of-type {\n",
       "        vertical-align: middle;\n",
       "    }\n",
       "\n",
       "    .dataframe tbody tr th {\n",
       "        vertical-align: top;\n",
       "    }\n",
       "\n",
       "    .dataframe thead th {\n",
       "        text-align: right;\n",
       "    }\n",
       "</style>\n",
       "<table border=\"1\" class=\"dataframe\">\n",
       "  <thead>\n",
       "    <tr style=\"text-align: right;\">\n",
       "      <th></th>\n",
       "      <th>gender</th>\n",
       "      <th>race/ethnicity</th>\n",
       "      <th>parental level of education</th>\n",
       "      <th>lunch</th>\n",
       "      <th>test preparation course</th>\n",
       "      <th>math score</th>\n",
       "      <th>reading score</th>\n",
       "      <th>writing score</th>\n",
       "    </tr>\n",
       "  </thead>\n",
       "  <tbody>\n",
       "    <tr>\n",
       "      <th>0</th>\n",
       "      <td>female</td>\n",
       "      <td>group B</td>\n",
       "      <td>bachelor's degree</td>\n",
       "      <td>standard</td>\n",
       "      <td>none</td>\n",
       "      <td>72</td>\n",
       "      <td>72</td>\n",
       "      <td>74</td>\n",
       "    </tr>\n",
       "    <tr>\n",
       "      <th>1</th>\n",
       "      <td>female</td>\n",
       "      <td>group C</td>\n",
       "      <td>some college</td>\n",
       "      <td>standard</td>\n",
       "      <td>completed</td>\n",
       "      <td>69</td>\n",
       "      <td>90</td>\n",
       "      <td>88</td>\n",
       "    </tr>\n",
       "    <tr>\n",
       "      <th>2</th>\n",
       "      <td>female</td>\n",
       "      <td>group B</td>\n",
       "      <td>master's degree</td>\n",
       "      <td>standard</td>\n",
       "      <td>none</td>\n",
       "      <td>90</td>\n",
       "      <td>95</td>\n",
       "      <td>93</td>\n",
       "    </tr>\n",
       "    <tr>\n",
       "      <th>3</th>\n",
       "      <td>male</td>\n",
       "      <td>group A</td>\n",
       "      <td>associate's degree</td>\n",
       "      <td>free/reduced</td>\n",
       "      <td>none</td>\n",
       "      <td>47</td>\n",
       "      <td>57</td>\n",
       "      <td>44</td>\n",
       "    </tr>\n",
       "    <tr>\n",
       "      <th>4</th>\n",
       "      <td>male</td>\n",
       "      <td>group C</td>\n",
       "      <td>some college</td>\n",
       "      <td>standard</td>\n",
       "      <td>none</td>\n",
       "      <td>76</td>\n",
       "      <td>78</td>\n",
       "      <td>75</td>\n",
       "    </tr>\n",
       "  </tbody>\n",
       "</table>\n",
       "</div>"
      ],
      "text/plain": [
       "   gender race/ethnicity parental level of education         lunch  \\\n",
       "0  female        group B           bachelor's degree      standard   \n",
       "1  female        group C                some college      standard   \n",
       "2  female        group B             master's degree      standard   \n",
       "3    male        group A          associate's degree  free/reduced   \n",
       "4    male        group C                some college      standard   \n",
       "\n",
       "  test preparation course  math score  reading score  writing score  \n",
       "0                    none          72             72             74  \n",
       "1               completed          69             90             88  \n",
       "2                    none          90             95             93  \n",
       "3                    none          47             57             44  \n",
       "4                    none          76             78             75  "
      ]
     },
     "execution_count": 57,
     "metadata": {},
     "output_type": "execute_result"
    }
   ],
   "source": [
    "df = pd.read_csv('data/cleaned_data.csv',index_col=0)\n",
    "df.head()"
   ]
  },
  {
   "cell_type": "markdown",
   "metadata": {},
   "source": [
    "### we will choose the math score to be our target variable"
   ]
  },
  {
   "cell_type": "code",
   "execution_count": 58,
   "metadata": {},
   "outputs": [
    {
     "data": {
      "text/plain": [
       "<Axes: >"
      ]
     },
     "execution_count": 58,
     "metadata": {},
     "output_type": "execute_result"
    },
    {
     "data": {
      "image/png": "[encoded data removed]",
      "text/plain": [
       "<Figure size 640x480 with 2 Axes>"
      ]
     },
     "metadata": {},
     "output_type": "display_data"
    }
   ],
   "source": [
    "sns.heatmap(df[['math score','reading score','writing score']].corr(),annot=True)"
   ]
  },
  {
   "cell_type": "markdown",
   "metadata": {},
   "source": [
    "## We can see that reading and writing scores have high corr , we should drop one of them to prevent multi collinearity , the optimal choice will be to drop the writing score because it has less corr with the target variable"
   ]
  },
  {
   "cell_type": "markdown",
   "metadata": {},
   "source": [
    "### let's make X , Y variabels."
   ]
  },
  {
   "cell_type": "code",
   "execution_count": 59,
   "metadata": {},
   "outputs": [],
   "source": [
    "X = df.drop(columns=['math score','writing score'])\n",
    "y  = df['math score']"
   ]
  },
  {
   "cell_type": "code",
   "execution_count": 60,
   "metadata": {},
   "outputs": [
    {
     "data": {
      "text/plain": [
       "((1000, 6), (1000,))"
      ]
     },
     "execution_count": 60,
     "metadata": {},
     "output_type": "execute_result"
    }
   ],
   "source": [
    "X.shape , y.shape"
   ]
  },
  {
   "cell_type": "markdown",
   "metadata": {},
   "source": [
    "### Splitting the data into train and test split"
   ]
  },
  {
   "cell_type": "code",
   "execution_count": 61,
   "metadata": {},
   "outputs": [],
   "source": [
    "X_train , X_test , y_train , y_test = train_test_split(X,y,test_size=0.2,random_state=42)"
   ]
  },
  {
   "cell_type": "code",
   "execution_count": 62,
   "metadata": {},
   "outputs": [
    {
     "data": {
      "text/plain": [
       "((800, 6), (200, 6), (800,), (200,))"
      ]
     },
     "execution_count": 62,
     "metadata": {},
     "output_type": "execute_result"
    }
   ],
   "source": [
    "X_train.shape , X_test.shape , y_train.shape , y_test.shape"
   ]
  },
  {
   "cell_type": "markdown",
   "metadata": {},
   "source": [
    "### Feature engineering\n",
    "- Standard scaling.\n",
    "- OneHotEncoding.\n",
    "- Ordinal Encoding for features with ranking type of categorical features.\n",
    "- Columns transformer as our pipeline. "
   ]
  },
  {
   "cell_type": "code",
   "execution_count": 63,
   "metadata": {},
   "outputs": [
    {
     "data": {
      "text/plain": [
       "Index(['reading score'], dtype='object')"
      ]
     },
     "execution_count": 63,
     "metadata": {},
     "output_type": "execute_result"
    }
   ],
   "source": [
    "num_features = X.select_dtypes(exclude='object').columns\n",
    "num_features"
   ]
  },
  {
   "cell_type": "code",
   "execution_count": null,
   "metadata": {},
   "outputs": [],
   "source": [
    "sc = StandardScaler()\n",
    "ohe_columns = ['gender','race/ethnicity','lunch','test preparation course']\n",
    "oe_columns = ['parental level of education']\n",
    "custom_order = [['high school','some college','associate\\'s degree','bachelor\\'s degree','master\\'s degree']]\n",
    "ohe = OneHotEncoder(drop='first')\n",
    "oe = OrdinalEncoder(categories=custom_order)\n",
    "preprocessor = ColumnTransformer([('OneHotEncoder',ohe,ohe_columns),\n",
    "                                  ('OrdinalEncoder',oe,oe_columns),\n",
    "                                  ('standatdScaler',sc,num_features)])"
   ]
  },
  {
   "cell_type": "code",
   "execution_count": 65,
   "metadata": {},
   "outputs": [],
   "source": [
    "X_train_scaled = preprocessor.fit_transform(X_train)\n",
    "X_test_scaled = preprocessor.transform(X_test)"
   ]
  },
  {
   "cell_type": "code",
   "execution_count": 66,
   "metadata": {},
   "outputs": [
    {
     "data": {
      "text/plain": [
       "((800, 9), (200, 9))"
      ]
     },
     "execution_count": 66,
     "metadata": {},
     "output_type": "execute_result"
    }
   ],
   "source": [
    "X_train_scaled.shape , X_test_scaled.shape"
   ]
  },
  {
   "cell_type": "markdown",
   "metadata": {},
   "source": [
    "### Model training and evaluation and hyper parameter tuning"
   ]
  },
  {
   "cell_type": "markdown",
   "metadata": {},
   "source": [
    "#### Caclulating adjusted R2\n",
    "- adjusted_r2 = 1 - ((1 - r2) * (n - 1) / (n - k - 1))\n",
    "- n = Number of observations\n",
    "- k = Number of predictors"
   ]
  },
  {
   "cell_type": "code",
   "execution_count": null,
   "metadata": {},
   "outputs": [
    {
     "name": "stdout",
     "output_type": "stream",
     "text": [
      "Fitting 5 folds for each of 100 candidates, totalling 500 fits\n",
      "RandomForest best params : {'n_estimators': 300, 'min_samples_split': 2, 'min_samples_leaf': 2, 'max_features': 'log2', 'max_depth': 20, 'bootstrap': True}\n",
      "Fitting 5 folds for each of 100 candidates, totalling 500 fits\n",
      "XGBRegressor best params : {'subsample': 0.6, 'reg_lambda': 0.1, 'reg_alpha': 0, 'n_estimators': 500, 'min_child_weight': 5, 'max_depth': 3, 'learning_rate': 0.01, 'gamma': 0.5, 'colsample_bytree': 0.8}\n",
      "Fitting 5 folds for each of 100 candidates, totalling 500 fits\n",
      "GradientBoostingRegressor best params : {'subsample': 0.8, 'n_estimators': 300, 'min_samples_split': 10, 'min_samples_leaf': 4, 'max_features': 'log2', 'max_depth': 3, 'learning_rate': 0.05}\n"
     ]
    }
   ],
   "source": [
    "# random_forest_params  = {\n",
    "#     'n_estimators': [100, 300, 500],\n",
    "#     'max_depth': [None, 10, 20, 30], \n",
    "#     'min_samples_split': [2, 5, 10],  \n",
    "#     'min_samples_leaf': [1, 2, 4],  \n",
    "#     'max_features': [ 'sqrt', 'log2'], \n",
    "#     'bootstrap': [True, False] \n",
    "# }\n",
    "# GBR_param_grid = {\n",
    "#     'n_estimators': [100, 300, 500],\n",
    "#     'learning_rate': [0.01, 0.05, 0.1, 0.2],\n",
    "#     'max_depth': [3, 5, 7, 10], \n",
    "#     'min_samples_split': [2, 5, 10],\n",
    "#     'min_samples_leaf': [1, 2, 4],\n",
    "#     'subsample': [0.6, 0.8, 1.0],\n",
    "#     'max_features': ['auto', 'sqrt', 'log2'],\n",
    "# }\n",
    "# XGBRegressor_param_grid = {\n",
    "#     'n_estimators': [100, 300, 500],\n",
    "#     'learning_rate': [0.01, 0.05, 0.1, 0.2],  \n",
    "#     'max_depth': [3, 5, 7, 10],  \n",
    "#     'min_child_weight': [1, 3, 5], \n",
    "#     'subsample': [0.6, 0.8, 1.0],  \n",
    "#     'colsample_bytree': [0.6, 0.8, 1.0], \n",
    "#     'gamma': [0, 0.1, 0.2, 0.5], \n",
    "#     'reg_alpha': [0, 0.01, 0.1, 1], \n",
    "#     'reg_lambda': [0, 0.01, 0.1, 1]  \n",
    "# }\n",
    "# cv_models = [('RandomForest',RandomForestRegressor(),random_forest_params),\n",
    "#              ('XGBRegressor',XGBRegressor(),XGBRegressor_param_grid),\n",
    "#              ('GradientBoostingRegressor',GradientBoostingRegressor(),GBR_param_grid)]\n",
    "# for model_name , model , param in cv_models:\n",
    "#     cv = RandomizedSearchCV(model,param,\n",
    "#     n_iter=100,n_jobs=-1,refit='r2',verbose=2)\n",
    "#     cv.fit(X_train_scaled,y_train)\n",
    "#     print(f'{model_name} best params : {cv.best_params_}')"
   ]
  },
  {
   "cell_type": "code",
   "execution_count": 78,
   "metadata": {},
   "outputs": [],
   "source": [
    "from sklearn.model_selection import cross_val_score\n",
    "models = {'RandomForest':RandomForestRegressor(n_estimators= 300, min_samples_split= 2, min_samples_leaf= 2, max_features= 'log2', max_depth= 20, bootstrap=True),\n",
    "         'DecisionTree':DecisionTreeRegressor(),\n",
    "         'Linear':LinearRegression(),\n",
    "         'Ridge':Ridge(),\n",
    "         'Lasso':Lasso(),\n",
    "         'XGBRegressor':XGBRegressor(subsample= 0.6, reg_lambda= 0.1, reg_alpha= 0, n_estimators= 500,\n",
    "                      min_child_weight=5, max_depth=3, learning_rate= 0.01, gamma= 0.5, colsample_bytree= 0.8),\n",
    "         'GradientBoostingRegressor':GradientBoostingRegressor(learning_rate=0.05, max_features='log2',\n",
    "                          min_samples_leaf=4, min_samples_split=10,max_depth=3,\n",
    "                          n_estimators=300, subsample=0.8)}\n",
    "results = pd.DataFrame()\n",
    "for i in range(len(models)):\n",
    "    model = list(models.values())[i]\n",
    "    model.fit(X_train_scaled,y_train)\n",
    "    #Training set Metrics.\n",
    "    y_train_pred = model.predict(X_train_scaled)\n",
    "    model_train_MAE = mean_absolute_error(y_train,y_train_pred)\n",
    "    model_train_r2 = r2_score(y_train,y_train_pred)\n",
    "    model_train_adjusted_r2 = 1 - ((1 - model_train_r2) * (X_train_scaled.shape[0] - 1) / (X_train_scaled.shape[0] - X_train_scaled.shape[1] - 1))\n",
    "    #Test set Metrics.\n",
    "    y_test_pred = model.predict(X_test_scaled)\n",
    "    model_test_MAE = mean_absolute_error(y_test,y_test_pred)\n",
    "    model_test_r2 = r2_score(y_test,y_test_pred)\n",
    "    model_test_adjusted_r2 = 1 - ((1 - model_test_r2) * (X_test_scaled.shape[0] - 1) / (X_test_scaled.shape[0] - X_test_scaled.shape[1] - 1))\n",
    "    #Results\n",
    "    results = pd.concat([results,pd.DataFrame([{\n",
    "        'Model': list(models.keys())[i],\n",
    "        'Train MAE': model_train_MAE,\n",
    "        'Train r2': model_train_r2,\n",
    "        'Train adjusted r2':model_train_adjusted_r2,\n",
    "        'test MAE': model_test_MAE,\n",
    "        'test r2': model_test_r2,\n",
    "        'test adjusted r2':model_test_adjusted_r2,\n",
    "    }])],ignore_index=True)"
   ]
  },
  {
   "cell_type": "code",
   "execution_count": 79,
   "metadata": {},
   "outputs": [
    {
     "data": {
      "text/html": [
       "<div>\n",
       "<style scoped>\n",
       "    .dataframe tbody tr th:only-of-type {\n",
       "        vertical-align: middle;\n",
       "    }\n",
       "\n",
       "    .dataframe tbody tr th {\n",
       "        vertical-align: top;\n",
       "    }\n",
       "\n",
       "    .dataframe thead th {\n",
       "        text-align: right;\n",
       "    }\n",
       "</style>\n",
       "<table border=\"1\" class=\"dataframe\">\n",
       "  <thead>\n",
       "    <tr style=\"text-align: right;\">\n",
       "      <th></th>\n",
       "      <th>Model</th>\n",
       "      <th>Train MAE</th>\n",
       "      <th>Train r2</th>\n",
       "      <th>Train adjusted r2</th>\n",
       "      <th>test MAE</th>\n",
       "      <th>test r2</th>\n",
       "      <th>test adjusted r2</th>\n",
       "    </tr>\n",
       "  </thead>\n",
       "  <tbody>\n",
       "    <tr>\n",
       "      <th>0</th>\n",
       "      <td>RandomForest</td>\n",
       "      <td>3.724377</td>\n",
       "      <td>0.902171</td>\n",
       "      <td>0.901057</td>\n",
       "      <td>5.492154</td>\n",
       "      <td>0.789400</td>\n",
       "      <td>0.779425</td>\n",
       "    </tr>\n",
       "    <tr>\n",
       "      <th>1</th>\n",
       "      <td>DecisionTree</td>\n",
       "      <td>0.450833</td>\n",
       "      <td>0.988978</td>\n",
       "      <td>0.988852</td>\n",
       "      <td>7.153333</td>\n",
       "      <td>0.673618</td>\n",
       "      <td>0.658157</td>\n",
       "    </tr>\n",
       "    <tr>\n",
       "      <th>2</th>\n",
       "      <td>Linear</td>\n",
       "      <td>4.805201</td>\n",
       "      <td>0.839592</td>\n",
       "      <td>0.837765</td>\n",
       "      <td>4.737006</td>\n",
       "      <td>0.852674</td>\n",
       "      <td>0.845695</td>\n",
       "    </tr>\n",
       "    <tr>\n",
       "      <th>3</th>\n",
       "      <td>Ridge</td>\n",
       "      <td>4.803580</td>\n",
       "      <td>0.839581</td>\n",
       "      <td>0.837753</td>\n",
       "      <td>4.735084</td>\n",
       "      <td>0.852522</td>\n",
       "      <td>0.845536</td>\n",
       "    </tr>\n",
       "    <tr>\n",
       "      <th>4</th>\n",
       "      <td>Lasso</td>\n",
       "      <td>5.524317</td>\n",
       "      <td>0.784438</td>\n",
       "      <td>0.781982</td>\n",
       "      <td>5.460806</td>\n",
       "      <td>0.806730</td>\n",
       "      <td>0.797575</td>\n",
       "    </tr>\n",
       "    <tr>\n",
       "      <th>5</th>\n",
       "      <td>XGBRegressor</td>\n",
       "      <td>4.598298</td>\n",
       "      <td>0.853374</td>\n",
       "      <td>0.851703</td>\n",
       "      <td>4.829004</td>\n",
       "      <td>0.839592</td>\n",
       "      <td>0.831993</td>\n",
       "    </tr>\n",
       "    <tr>\n",
       "      <th>6</th>\n",
       "      <td>GradientBoostingRegressor</td>\n",
       "      <td>4.280047</td>\n",
       "      <td>0.871052</td>\n",
       "      <td>0.869583</td>\n",
       "      <td>5.034717</td>\n",
       "      <td>0.831708</td>\n",
       "      <td>0.823737</td>\n",
       "    </tr>\n",
       "  </tbody>\n",
       "</table>\n",
       "</div>"
      ],
      "text/plain": [
       "                       Model  Train MAE  Train r2  Train adjusted r2  \\\n",
       "0               RandomForest   3.724377  0.902171           0.901057   \n",
       "1               DecisionTree   0.450833  0.988978           0.988852   \n",
       "2                     Linear   4.805201  0.839592           0.837765   \n",
       "3                      Ridge   4.803580  0.839581           0.837753   \n",
       "4                      Lasso   5.524317  0.784438           0.781982   \n",
       "5               XGBRegressor   4.598298  0.853374           0.851703   \n",
       "6  GradientBoostingRegressor   4.280047  0.871052           0.869583   \n",
       "\n",
       "   test MAE   test r2  test adjusted r2  \n",
       "0  5.492154  0.789400          0.779425  \n",
       "1  7.153333  0.673618          0.658157  \n",
       "2  4.737006  0.852674          0.845695  \n",
       "3  4.735084  0.852522          0.845536  \n",
       "4  5.460806  0.806730          0.797575  \n",
       "5  4.829004  0.839592          0.831993  \n",
       "6  5.034717  0.831708          0.823737  "
      ]
     },
     "execution_count": 79,
     "metadata": {},
     "output_type": "execute_result"
    }
   ],
   "source": [
    "results"
   ]
  },
  {
   "cell_type": "markdown",
   "metadata": {},
   "source": [
    "### we can see the our optimal model is the LinearRegression with test adjusted r2 of 84.56%"
   ]
  },
  {
   "cell_type": "code",
   "execution_count": 70,
   "metadata": {},
   "outputs": [],
   "source": [
    "lr = LinearRegression()\n",
    "lr.fit(X_train_scaled,y_train)\n",
    "y_pred = lr.predict(X_test_scaled)"
   ]
  },
  {
   "cell_type": "code",
   "execution_count": 71,
   "metadata": {},
   "outputs": [
    {
     "data": {
      "text/plain": [
       "0.8526735315096998"
      ]
     },
     "execution_count": 71,
     "metadata": {},
     "output_type": "execute_result"
    }
   ],
   "source": [
    "r2_score(y_test,y_pred)"
   ]
  },
  {
   "cell_type": "code",
   "execution_count": 72,
   "metadata": {},
   "outputs": [
    {
     "data": {
      "text/plain": [
       "0.8509951287041141"
      ]
     },
     "execution_count": 72,
     "metadata": {},
     "output_type": "execute_result"
    }
   ],
   "source": [
    "1 - ((1 - r2_score(y_test,y_pred)) * (X_train_scaled.shape[0] - 1) / (X_train_scaled.shape[0] - X_train_scaled.shape[1] - 1))"
   ]
  },
  {
   "cell_type": "markdown",
   "metadata": {},
   "source": [
    "### Now let's check for linear regression assumptions\n",
    "1. linearity.\n",
    "2. independece.\n",
    "3. homoscedasticity.\n",
    "4. normality of residuals.\n",
    "5. no multicollinearity."
   ]
  },
  {
   "cell_type": "code",
   "execution_count": 73,
   "metadata": {},
   "outputs": [
    {
     "data": {
      "text/plain": [
       "<Axes: ylabel='math score'>"
      ]
     },
     "execution_count": 73,
     "metadata": {},
     "output_type": "execute_result"
    },
    {
     "data": {
      "image/png": "[encoded data removed]",
      "text/plain": [
       "<Figure size 640x480 with 1 Axes>"
      ]
     },
     "metadata": {},
     "output_type": "display_data"
    }
   ],
   "source": [
    "sns.scatterplot(x=y_pred,y=y_test)"
   ]
  },
  {
   "cell_type": "code",
   "execution_count": 74,
   "metadata": {},
   "outputs": [],
   "source": [
    "residuals = y_test - y_pred"
   ]
  },
  {
   "cell_type": "code",
   "execution_count": 75,
   "metadata": {},
   "outputs": [
    {
     "data": {
      "text/plain": [
       "<Axes: xlabel='math score', ylabel='Count'>"
      ]
     },
     "execution_count": 75,
     "metadata": {},
     "output_type": "execute_result"
    },
    {
     "data": {
      "image/png": "[encoded data removed]",
      "text/plain": [
       "<Figure size 640x480 with 1 Axes>"
      ]
     },
     "metadata": {},
     "output_type": "display_data"
    }
   ],
   "source": [
    "sns.histplot(residuals)"
   ]
  },
  {
   "cell_type": "code",
   "execution_count": 76,
   "metadata": {},
   "outputs": [
    {
     "name": "stdout",
     "output_type": "stream",
     "text": [
      "\n"
     ]
    },
    {
     "data": {
      "image/png": "[encoded data removed]",
      "text/plain": [
       "<Figure size 640x480 with 1 Axes>"
      ]
     },
     "metadata": {},
     "output_type": "display_data"
    }
   ],
   "source": [
    "qqplot(residuals,line='s')\n",
    "print()"
   ]
  },
  {
   "cell_type": "markdown",
   "metadata": {},
   "source": [
    "- VIF < 5 → No multicollinearity\n",
    "- VIF between 5-10 → Moderate multicollinearity \n",
    "- VIF > 10 → High multicollinearity  (Feature should likely be removed or transformed)"
   ]
  },
  {
   "cell_type": "code",
   "execution_count": 77,
   "metadata": {},
   "outputs": [
    {
     "name": "stdout",
     "output_type": "stream",
     "text": [
      "     Feature        VIF\n",
      "0  Intercept  17.358864\n",
      "1          0   1.101186\n",
      "2          1   2.631881\n",
      "3          2   3.276702\n",
      "4          3   2.984421\n",
      "5          4   2.340768\n",
      "6          5   1.082624\n",
      "7          6   1.097091\n",
      "8          7   1.048368\n",
      "9          8   1.304724\n"
     ]
    }
   ],
   "source": [
    "X_train_vif = pd.DataFrame(X_train_scaled).copy()\n",
    "X_train_vif.insert(0, 'Intercept', 1)\n",
    "vif_data = pd.DataFrame()\n",
    "vif_data[\"Feature\"] = X_train_vif.columns\n",
    "vif_data[\"VIF\"] = [variance_inflation_factor(X_train_vif.values, i) for i in range(X_train_vif.shape[1])]\n",
    "print(vif_data)\n"
   ]
  },
  {
   "cell_type": "code",
   "execution_count": 82,
   "metadata": {},
   "outputs": [
    {
     "data": {
      "text/plain": [
       "<Axes: xlabel='math score'>"
      ]
     },
     "execution_count": 82,
     "metadata": {},
     "output_type": "execute_result"
    },
    {
     "data": {
      "image/png": "[encoded data removed]",
      "text/plain": [
       "<Figure size 640x480 with 1 Axes>"
      ]
     },
     "metadata": {},
     "output_type": "display_data"
    }
   ],
   "source": [
    "sns.scatterplot(x=residuals,y=y_pred)"
   ]
  },
  {
   "cell_type": "markdown",
   "metadata": {},
   "source": [
    "# We can see that our Assumptions are successfully met"
   ]
  },
  {
   "cell_type": "code",
   "execution_count": null,
   "metadata": {},
   "outputs": [],
   "source": []
  }
 ],
 "metadata": {
  "kernelspec": {
   "display_name": "Python 3",
   "language": "python",
   "name": "python3"
  },
  "language_info": {
   "codemirror_mode": {
    "name": "ipython",
    "version": 3
   },
   "file_extension": ".py",
   "mimetype": "text/x-python",
   "name": "python",
   "nbconvert_exporter": "python",
   "pygments_lexer": "ipython3",
   "version": "3.10.16"
  }
 },
 "nbformat": 4,
 "nbformat_minor": 2
}
